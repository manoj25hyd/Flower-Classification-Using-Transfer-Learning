{
  "nbformat": 4,
  "nbformat_minor": 0,
  "metadata": {
    "colab": {
      "name": "Flower_Classification.ipynb",
      "provenance": []
    },
    "kernelspec": {
      "name": "python3",
      "display_name": "Python 3"
    },
    "language_info": {
      "name": "python"
    }
  },
  "cells": [
    {
      "cell_type": "markdown",
      "metadata": {
        "id": "q2FhIK7arzwL"
      },
      "source": [
        "# *Flower Classification*"
      ]
    },
    {
      "cell_type": "markdown",
      "metadata": {
        "id": "_RavMVfSr_vX"
      },
      "source": [
        "## *Import Libraries*\n",
        "-------------------------------"
      ]
    },
    {
      "cell_type": "code",
      "metadata": {
        "id": "TtpeAJMqsOLC"
      },
      "source": [
        "import cv2\n",
        "import numpy as np\n",
        "import os\n",
        "from google.colab.patches import cv2_imshow\n",
        "from sklearn.model_selection import train_test_split\n",
        "import tensorflow as tf\n",
        "from tensorflow import keras\n",
        "from tensorflow.keras import layers\n",
        "from tensorflow.keras.models import Sequential\n",
        "import tensorflow_hub as hub\n",
        "import matplotlib.pyplot as plt"
      ],
      "execution_count": 33,
      "outputs": []
    },
    {
      "cell_type": "markdown",
      "metadata": {
        "id": "Hg55uJUtsWjb"
      },
      "source": [
        "## *Import Dataset*\n",
        "-----------------------------------"
      ]
    },
    {
      "cell_type": "code",
      "metadata": {
        "id": "zgvn3lpZ0agJ"
      },
      "source": [
        "images_paths_dict = {}  # Empty dictionary to hold flower labels and their paths\n",
        "for folder_name in [\"daisy\", \"dandelion\", \"roses\", \"sunflowers\", \"tulips\"]:\n",
        "    root_path = \"/content/drive/MyDrive/Deep Learning/FlowerClassification/flower_photos/{}/\".format(folder_name)\n",
        "    images = os.listdir(path = root_path)\n",
        "    images_paths = []\n",
        "    for image in images:\n",
        "        images_paths.append(root_path + image)\n",
        "    images_paths_dict[folder_name] = images_paths"
      ],
      "execution_count": null,
      "outputs": []
    },
    {
      "cell_type": "code",
      "metadata": {
        "colab": {
          "base_uri": "https://localhost:8080/"
        },
        "id": "vKnNwFSh6-y7",
        "outputId": "e8c97ae8-3437-4f3f-f247-ebe2b34bb696"
      },
      "source": [
        "images_labels_dict = {\n",
        "    \"daisy\" : 0,\n",
        "    \"dandelion\" : 1,\n",
        "    \"roses\" : 2,\n",
        "    \"sunflowers\" : 3,\n",
        "    \"tulips\" : 4\n",
        "}\n",
        "images_labels_dict"
      ],
      "execution_count": null,
      "outputs": [
        {
          "output_type": "execute_result",
          "data": {
            "text/plain": [
              "{'daisy': 0, 'dandelion': 1, 'roses': 2, 'sunflowers': 3, 'tulips': 4}"
            ]
          },
          "metadata": {
            "tags": []
          },
          "execution_count": 4
        }
      ]
    },
    {
      "cell_type": "code",
      "metadata": {
        "id": "w3J1bdai3mnF"
      },
      "source": [
        "# X_images = []\n",
        "# y_labels = []\n",
        "\n",
        "# for label, images_paths in images_paths_dict.items():\n",
        "#     for image_path in images_paths:\n",
        "#         img = cv2.imread(image_path)\n",
        "#         X_images.append(img)\n",
        "#         y_labels.append(images_labels_dict[label])"
      ],
      "execution_count": null,
      "outputs": []
    },
    {
      "cell_type": "code",
      "metadata": {
        "id": "zIN9yDIb-8Bo"
      },
      "source": [
        "# X_resized = []\n",
        "# for image in X_images:\n",
        "#     resized_image = cv2.resize(image, (180, 180))\n",
        "#     X_resized.append(resized_image)"
      ],
      "execution_count": null,
      "outputs": []
    },
    {
      "cell_type": "code",
      "metadata": {
        "colab": {
          "base_uri": "https://localhost:8080/"
        },
        "id": "YF79kUFP7iqm",
        "outputId": "eee40865-638d-4d2f-a001-f3d2e8ee8953"
      },
      "source": [
        "# X_resized = np.array(X_resized)\n",
        "# X_resized.shape"
      ],
      "execution_count": null,
      "outputs": [
        {
          "output_type": "execute_result",
          "data": {
            "text/plain": [
              "(3680, 180, 180, 3)"
            ]
          },
          "metadata": {
            "tags": []
          },
          "execution_count": 29
        }
      ]
    },
    {
      "cell_type": "code",
      "metadata": {
        "colab": {
          "base_uri": "https://localhost:8080/"
        },
        "id": "IWcwVHM0-xjD",
        "outputId": "5cc38e8d-9404-4b9e-d7ab-c356652cb6dd"
      },
      "source": [
        "# y_labels = np.array(y_labels)\n",
        "# y_labels.shape"
      ],
      "execution_count": null,
      "outputs": [
        {
          "output_type": "execute_result",
          "data": {
            "text/plain": [
              "(3680,)"
            ]
          },
          "metadata": {
            "tags": []
          },
          "execution_count": 30
        }
      ]
    },
    {
      "cell_type": "code",
      "metadata": {
        "id": "Q5NjNAtLzPnC"
      },
      "source": [
        "# np.save(\"FlowerImages.npy\", X_resized)\n",
        "# np.save(\"FlowerLabels.npy\", y_labels)"
      ],
      "execution_count": null,
      "outputs": []
    },
    {
      "cell_type": "code",
      "metadata": {
        "colab": {
          "base_uri": "https://localhost:8080/"
        },
        "id": "Goith176zlv2",
        "outputId": "03246e8f-9c61-47fe-d0c2-d4702f69d4e5"
      },
      "source": [
        "# np.load(file = \"/content/FlowerImages.npy\").shape"
      ],
      "execution_count": null,
      "outputs": [
        {
          "output_type": "execute_result",
          "data": {
            "text/plain": [
              "(3680, 180, 180, 3)"
            ]
          },
          "metadata": {
            "tags": []
          },
          "execution_count": 12
        }
      ]
    },
    {
      "cell_type": "code",
      "metadata": {
        "id": "krV4u0rtz2uv"
      },
      "source": [
        "# y_labels = np.load(file = \"/content/FlowerLabels.npy\")\n",
        "# y_labels.shape"
      ],
      "execution_count": null,
      "outputs": []
    },
    {
      "cell_type": "code",
      "metadata": {
        "id": "zWqm1a9GEx5a"
      },
      "source": [
        "# X_resized_224x224 = []\n",
        "# for image in X_images:\n",
        "#     resized_image = cv2.resize(image, (224, 224))\n",
        "#     X_resized_224x224.append(resized_image)"
      ],
      "execution_count": null,
      "outputs": []
    },
    {
      "cell_type": "code",
      "metadata": {
        "colab": {
          "base_uri": "https://localhost:8080/"
        },
        "id": "dW8DHCugFKRN",
        "outputId": "da535686-9d07-4552-9daa-8b20094527d2"
      },
      "source": [
        "# X_resized_224x224 = np.array(X_resized_224x224)\n",
        "# X_resized_224x224.shape"
      ],
      "execution_count": null,
      "outputs": [
        {
          "output_type": "execute_result",
          "data": {
            "text/plain": [
              "(3680, 224, 224, 3)"
            ]
          },
          "metadata": {
            "tags": []
          },
          "execution_count": 34
        }
      ]
    },
    {
      "cell_type": "code",
      "metadata": {
        "id": "e0aPUCswFVBw"
      },
      "source": [
        "# np.save(\"FlowerImages_224x224.npy\", X_resized_224x224)"
      ],
      "execution_count": null,
      "outputs": []
    },
    {
      "cell_type": "code",
      "metadata": {
        "colab": {
          "base_uri": "https://localhost:8080/"
        },
        "id": "KObbLUr5Igwc",
        "outputId": "c4750247-1bda-4888-f345-6a0fe9e5e6df"
      },
      "source": [
        "X_resized = np.load(file = \"/content/drive/MyDrive/Deep Learning/FlowerClassification/FlowerImages_224x224.npy\")\n",
        "X_resized.shape"
      ],
      "execution_count": 7,
      "outputs": [
        {
          "output_type": "execute_result",
          "data": {
            "text/plain": [
              "(3680, 224, 224, 3)"
            ]
          },
          "metadata": {
            "tags": []
          },
          "execution_count": 7
        }
      ]
    },
    {
      "cell_type": "code",
      "metadata": {
        "colab": {
          "base_uri": "https://localhost:8080/"
        },
        "id": "akoR6mBLI7qW",
        "outputId": "4b7ca53f-e360-4a27-8a07-da4f6a7169df"
      },
      "source": [
        "y_labels = np.load(file = \"/content/drive/MyDrive/Deep Learning/FlowerClassification/FlowerLabels.npy\")\n",
        "y_labels.shape"
      ],
      "execution_count": 8,
      "outputs": [
        {
          "output_type": "execute_result",
          "data": {
            "text/plain": [
              "(3680,)"
            ]
          },
          "metadata": {
            "tags": []
          },
          "execution_count": 8
        }
      ]
    },
    {
      "cell_type": "markdown",
      "metadata": {
        "id": "JX4eu3h1AhIL"
      },
      "source": [
        "## *Split Data Into Train and Test Set*\n",
        "---------------------------------------------"
      ]
    },
    {
      "cell_type": "code",
      "metadata": {
        "id": "jKl3PP4_AxPL"
      },
      "source": [
        "X_train, X_test, y_train, y_test = train_test_split(X_resized, y_labels, random_state = 0)"
      ],
      "execution_count": 9,
      "outputs": []
    },
    {
      "cell_type": "code",
      "metadata": {
        "colab": {
          "base_uri": "https://localhost:8080/"
        },
        "id": "CwW6FZ6ABfBx",
        "outputId": "e3deea2b-dcbc-45fd-f558-6dbc0e8ccdc9"
      },
      "source": [
        "X_train.shape, X_test.shape"
      ],
      "execution_count": 10,
      "outputs": [
        {
          "output_type": "execute_result",
          "data": {
            "text/plain": [
              "((2760, 224, 224, 3), (920, 224, 224, 3))"
            ]
          },
          "metadata": {
            "tags": []
          },
          "execution_count": 10
        }
      ]
    },
    {
      "cell_type": "code",
      "metadata": {
        "colab": {
          "base_uri": "https://localhost:8080/"
        },
        "id": "9NGyDUTUBl00",
        "outputId": "1488468e-81a1-472b-aa31-8528d3995410"
      },
      "source": [
        "y_train.shape, y_test.shape"
      ],
      "execution_count": 11,
      "outputs": [
        {
          "output_type": "execute_result",
          "data": {
            "text/plain": [
              "((2760,), (920,))"
            ]
          },
          "metadata": {
            "tags": []
          },
          "execution_count": 11
        }
      ]
    },
    {
      "cell_type": "markdown",
      "metadata": {
        "id": "6xZSxh9tBpxh"
      },
      "source": [
        "## *Scaling Images*\n",
        "---------------------------"
      ]
    },
    {
      "cell_type": "code",
      "metadata": {
        "id": "3V0Ilmc_CNWY"
      },
      "source": [
        "X_train_scaled = X_train / 255\n",
        "X_test_scaled = X_test / 255"
      ],
      "execution_count": 12,
      "outputs": []
    },
    {
      "cell_type": "markdown",
      "metadata": {
        "id": "MW2nYTlCCUzQ"
      },
      "source": [
        "## *Building CNN Model*\n",
        "--------------------------"
      ]
    },
    {
      "cell_type": "markdown",
      "metadata": {
        "id": "D49cy7CiFYXd"
      },
      "source": [
        "### *Initialize The Model:*"
      ]
    },
    {
      "cell_type": "code",
      "metadata": {
        "id": "doSXAlK7CrLG"
      },
      "source": [
        "model = Sequential([\n",
        "    layers.Conv2D(filters = 16, kernel_size = 3, padding = \"same\", activation = \"relu\"),\n",
        "    layers.MaxPooling2D(),\n",
        "    layers.Conv2D(filters = 32, kernel_size = 3, padding = \"same\", activation = \"relu\"),\n",
        "    layers.MaxPooling2D(),\n",
        "    layers.Conv2D(filters = 64, kernel_size = 3, padding = \"same\", activation = \"relu\"),\n",
        "    layers.MaxPooling2D(),\n",
        "    layers.Flatten(),\n",
        "    layers.Dense(units = 128, activation = \"relu\"),\n",
        "    layers.Dense(5) # Because the are 5 classes of flowers\n",
        "])"
      ],
      "execution_count": 13,
      "outputs": []
    },
    {
      "cell_type": "markdown",
      "metadata": {
        "id": "QRivqkddFn6U"
      },
      "source": [
        "### *Complile The Model:*"
      ]
    },
    {
      "cell_type": "code",
      "metadata": {
        "id": "zAn53EmrFshD"
      },
      "source": [
        "model.compile(optimizer = \"adam\", \n",
        "              loss = tf.keras.losses.SparseCategoricalCrossentropy(from_logits = True),\n",
        "              metrics = [\"accuracy\"])"
      ],
      "execution_count": 14,
      "outputs": []
    },
    {
      "cell_type": "markdown",
      "metadata": {
        "id": "IS2USHnaGKZ5"
      },
      "source": [
        "### *Train The Model:*"
      ]
    },
    {
      "cell_type": "code",
      "metadata": {
        "colab": {
          "base_uri": "https://localhost:8080/"
        },
        "id": "aTmTTpJ8GUjc",
        "outputId": "b7c5af35-376a-424e-869c-020bb665b26c"
      },
      "source": [
        "model.fit(X_train_scaled, y_train, epochs = 30, batch_size = 16)"
      ],
      "execution_count": 15,
      "outputs": [
        {
          "output_type": "stream",
          "text": [
            "Epoch 1/30\n",
            "173/173 [==============================] - 35s 35ms/step - loss: 1.4117 - accuracy: 0.4391\n",
            "Epoch 2/30\n",
            "173/173 [==============================] - 6s 33ms/step - loss: 0.9916 - accuracy: 0.6188\n",
            "Epoch 3/30\n",
            "173/173 [==============================] - 6s 33ms/step - loss: 0.7124 - accuracy: 0.7388\n",
            "Epoch 4/30\n",
            "173/173 [==============================] - 6s 33ms/step - loss: 0.3812 - accuracy: 0.8627\n",
            "Epoch 5/30\n",
            "173/173 [==============================] - 6s 34ms/step - loss: 0.1948 - accuracy: 0.9388\n",
            "Epoch 6/30\n",
            "173/173 [==============================] - 6s 33ms/step - loss: 0.1153 - accuracy: 0.9638\n",
            "Epoch 7/30\n",
            "173/173 [==============================] - 6s 34ms/step - loss: 0.0386 - accuracy: 0.9920\n",
            "Epoch 8/30\n",
            "173/173 [==============================] - 6s 34ms/step - loss: 0.0393 - accuracy: 0.9909\n",
            "Epoch 9/30\n",
            "173/173 [==============================] - 6s 34ms/step - loss: 0.0222 - accuracy: 0.9949\n",
            "Epoch 10/30\n",
            "173/173 [==============================] - 6s 33ms/step - loss: 0.0216 - accuracy: 0.9960\n",
            "Epoch 11/30\n",
            "173/173 [==============================] - 6s 33ms/step - loss: 0.0538 - accuracy: 0.9830\n",
            "Epoch 12/30\n",
            "173/173 [==============================] - 6s 34ms/step - loss: 0.0194 - accuracy: 0.9938\n",
            "Epoch 13/30\n",
            "173/173 [==============================] - 6s 34ms/step - loss: 0.0156 - accuracy: 0.9967\n",
            "Epoch 14/30\n",
            "173/173 [==============================] - 6s 33ms/step - loss: 0.0600 - accuracy: 0.9833\n",
            "Epoch 15/30\n",
            "173/173 [==============================] - 6s 33ms/step - loss: 0.0594 - accuracy: 0.9815\n",
            "Epoch 16/30\n",
            "173/173 [==============================] - 6s 33ms/step - loss: 0.0518 - accuracy: 0.9870\n",
            "Epoch 17/30\n",
            "173/173 [==============================] - 6s 33ms/step - loss: 0.0277 - accuracy: 0.9935\n",
            "Epoch 18/30\n",
            "173/173 [==============================] - 6s 33ms/step - loss: 0.0157 - accuracy: 0.9967\n",
            "Epoch 19/30\n",
            "173/173 [==============================] - 6s 33ms/step - loss: 0.0021 - accuracy: 0.9996\n",
            "Epoch 20/30\n",
            "173/173 [==============================] - 6s 34ms/step - loss: 0.0035 - accuracy: 0.9993\n",
            "Epoch 21/30\n",
            "173/173 [==============================] - 6s 33ms/step - loss: 0.0029 - accuracy: 0.9993\n",
            "Epoch 22/30\n",
            "173/173 [==============================] - 6s 33ms/step - loss: 0.0023 - accuracy: 0.9996\n",
            "Epoch 23/30\n",
            "173/173 [==============================] - 6s 33ms/step - loss: 0.0029 - accuracy: 0.9993\n",
            "Epoch 24/30\n",
            "173/173 [==============================] - 6s 33ms/step - loss: 0.0015 - accuracy: 0.9996\n",
            "Epoch 25/30\n",
            "173/173 [==============================] - 6s 34ms/step - loss: 0.0022 - accuracy: 0.9993\n",
            "Epoch 26/30\n",
            "173/173 [==============================] - 6s 34ms/step - loss: 0.0020 - accuracy: 0.9993\n",
            "Epoch 27/30\n",
            "173/173 [==============================] - 6s 34ms/step - loss: 0.0016 - accuracy: 0.9996\n",
            "Epoch 28/30\n",
            "173/173 [==============================] - 6s 33ms/step - loss: 0.0015 - accuracy: 0.9996\n",
            "Epoch 29/30\n",
            "173/173 [==============================] - 6s 34ms/step - loss: 0.0019 - accuracy: 0.9993\n",
            "Epoch 30/30\n",
            "173/173 [==============================] - 6s 33ms/step - loss: 0.0012 - accuracy: 0.9993\n"
          ],
          "name": "stdout"
        },
        {
          "output_type": "execute_result",
          "data": {
            "text/plain": [
              "<tensorflow.python.keras.callbacks.History at 0x7f6e9e596e10>"
            ]
          },
          "metadata": {
            "tags": []
          },
          "execution_count": 15
        }
      ]
    },
    {
      "cell_type": "markdown",
      "metadata": {
        "id": "byPW5wUoGnIN"
      },
      "source": [
        "### *Testing with X_test*"
      ]
    },
    {
      "cell_type": "code",
      "metadata": {
        "colab": {
          "base_uri": "https://localhost:8080/"
        },
        "id": "liKxp7AKMSz4",
        "outputId": "991ed20a-05d2-4fc5-b69c-f68a481217ff"
      },
      "source": [
        "model.evaluate(X_test_scaled, y_test)"
      ],
      "execution_count": 16,
      "outputs": [
        {
          "output_type": "stream",
          "text": [
            "29/29 [==============================] - 2s 32ms/step - loss: 2.5252 - accuracy: 0.6457\n"
          ],
          "name": "stdout"
        },
        {
          "output_type": "execute_result",
          "data": {
            "text/plain": [
              "[2.5251615047454834, 0.645652174949646]"
            ]
          },
          "metadata": {
            "tags": []
          },
          "execution_count": 16
        }
      ]
    },
    {
      "cell_type": "markdown",
      "metadata": {
        "id": "WrDerNdJMgPX"
      },
      "source": [
        "* Training accuracy is 99.93% and Testing accuracy is 62.69%\n",
        "* We see problem of overfitting"
      ]
    },
    {
      "cell_type": "markdown",
      "metadata": {
        "id": "uYTdes2FN9n2"
      },
      "source": [
        "## *Build CNN Model with Data Augmentation*\n",
        "----------------------------------------"
      ]
    },
    {
      "cell_type": "markdown",
      "metadata": {
        "id": "5HkEYi9oxuPN"
      },
      "source": [
        "### *Initialize Data Augmentation:*"
      ]
    },
    {
      "cell_type": "code",
      "metadata": {
        "id": "HzWfLJ7UOnqw"
      },
      "source": [
        "data_augmentation = Sequential([\n",
        "      layers.experimental.preprocessing.RandomFlip(\"horizontal\", input_shape = (224, 224, 3)),\n",
        "      layers.experimental.preprocessing.RandomRotation(0.1),\n",
        "      layers.experimental.preprocessing.RandomZoom(0.1)\n",
        "])"
      ],
      "execution_count": 18,
      "outputs": []
    },
    {
      "cell_type": "markdown",
      "metadata": {
        "id": "jWQStXEgx9h_"
      },
      "source": [
        "### *Initialize CNN Model:*"
      ]
    },
    {
      "cell_type": "code",
      "metadata": {
        "id": "Kjp1cQprQLYI"
      },
      "source": [
        "model = Sequential([\n",
        "  data_augmentation,\n",
        "  layers.Conv2D(16, 3, padding='same', activation='relu'),\n",
        "  layers.MaxPooling2D(),\n",
        "  layers.Conv2D(32, 3, padding='same', activation='relu'),\n",
        "  layers.MaxPooling2D(),\n",
        "  layers.Conv2D(64, 3, padding='same', activation='relu'),\n",
        "  layers.MaxPooling2D(),\n",
        "  layers.Dropout(0.2),\n",
        "  layers.Flatten(),\n",
        "  layers.Dense(128, activation='relu'),\n",
        "  layers.Dense(5)\n",
        "])"
      ],
      "execution_count": 19,
      "outputs": []
    },
    {
      "cell_type": "markdown",
      "metadata": {
        "id": "X9gW4-Lz04do"
      },
      "source": [
        "### *Compile The Model:*"
      ]
    },
    {
      "cell_type": "code",
      "metadata": {
        "id": "CjLStWdl1CHM"
      },
      "source": [
        "model.compile(optimizer='adam',\n",
        "              loss=tf.keras.losses.SparseCategoricalCrossentropy(from_logits=True),\n",
        "              metrics=['accuracy'])"
      ],
      "execution_count": 20,
      "outputs": []
    },
    {
      "cell_type": "markdown",
      "metadata": {
        "id": "JzsssXxZ1D_a"
      },
      "source": [
        "### *Train The Model:*"
      ]
    },
    {
      "cell_type": "code",
      "metadata": {
        "colab": {
          "base_uri": "https://localhost:8080/"
        },
        "id": "S2eyTAKH1K4e",
        "outputId": "dd8beb9e-a984-4ef5-bc64-61f887a3c4d0"
      },
      "source": [
        "model.fit(X_train_scaled, y_train, epochs=30, batch_size = 16)"
      ],
      "execution_count": 21,
      "outputs": [
        {
          "output_type": "stream",
          "text": [
            "Epoch 1/30\n",
            "173/173 [==============================] - 8s 39ms/step - loss: 1.4215 - accuracy: 0.3946\n",
            "Epoch 2/30\n",
            "173/173 [==============================] - 7s 38ms/step - loss: 1.0645 - accuracy: 0.5786\n",
            "Epoch 3/30\n",
            "173/173 [==============================] - 7s 39ms/step - loss: 0.9332 - accuracy: 0.6438\n",
            "Epoch 4/30\n",
            "173/173 [==============================] - 7s 38ms/step - loss: 0.8556 - accuracy: 0.6667\n",
            "Epoch 5/30\n",
            "173/173 [==============================] - 7s 38ms/step - loss: 0.8111 - accuracy: 0.6906\n",
            "Epoch 6/30\n",
            "173/173 [==============================] - 7s 39ms/step - loss: 0.7472 - accuracy: 0.7130\n",
            "Epoch 7/30\n",
            "173/173 [==============================] - 7s 39ms/step - loss: 0.7404 - accuracy: 0.7159\n",
            "Epoch 8/30\n",
            "173/173 [==============================] - 7s 39ms/step - loss: 0.6694 - accuracy: 0.7428\n",
            "Epoch 9/30\n",
            "173/173 [==============================] - 7s 39ms/step - loss: 0.6609 - accuracy: 0.7551\n",
            "Epoch 10/30\n",
            "173/173 [==============================] - 7s 39ms/step - loss: 0.6180 - accuracy: 0.7638\n",
            "Epoch 11/30\n",
            "173/173 [==============================] - 7s 39ms/step - loss: 0.6126 - accuracy: 0.7848\n",
            "Epoch 12/30\n",
            "173/173 [==============================] - 7s 39ms/step - loss: 0.5917 - accuracy: 0.7739\n",
            "Epoch 13/30\n",
            "173/173 [==============================] - 7s 39ms/step - loss: 0.5471 - accuracy: 0.7982\n",
            "Epoch 14/30\n",
            "173/173 [==============================] - 7s 39ms/step - loss: 0.5357 - accuracy: 0.8022\n",
            "Epoch 15/30\n",
            "173/173 [==============================] - 7s 39ms/step - loss: 0.5133 - accuracy: 0.8004\n",
            "Epoch 16/30\n",
            "173/173 [==============================] - 7s 39ms/step - loss: 0.4895 - accuracy: 0.8141\n",
            "Epoch 17/30\n",
            "173/173 [==============================] - 7s 39ms/step - loss: 0.4463 - accuracy: 0.8290\n",
            "Epoch 18/30\n",
            "173/173 [==============================] - 7s 39ms/step - loss: 0.4373 - accuracy: 0.8330\n",
            "Epoch 19/30\n",
            "173/173 [==============================] - 7s 39ms/step - loss: 0.4223 - accuracy: 0.8370\n",
            "Epoch 20/30\n",
            "173/173 [==============================] - 7s 39ms/step - loss: 0.4110 - accuracy: 0.8475\n",
            "Epoch 21/30\n",
            "173/173 [==============================] - 7s 39ms/step - loss: 0.3931 - accuracy: 0.8536\n",
            "Epoch 22/30\n",
            "173/173 [==============================] - 7s 39ms/step - loss: 0.3817 - accuracy: 0.8638\n",
            "Epoch 23/30\n",
            "173/173 [==============================] - 7s 39ms/step - loss: 0.3430 - accuracy: 0.8692\n",
            "Epoch 24/30\n",
            "173/173 [==============================] - 7s 39ms/step - loss: 0.3360 - accuracy: 0.8696\n",
            "Epoch 25/30\n",
            "173/173 [==============================] - 7s 39ms/step - loss: 0.3213 - accuracy: 0.8895\n",
            "Epoch 26/30\n",
            "173/173 [==============================] - 7s 39ms/step - loss: 0.3027 - accuracy: 0.8855\n",
            "Epoch 27/30\n",
            "173/173 [==============================] - 7s 39ms/step - loss: 0.2959 - accuracy: 0.8946\n",
            "Epoch 28/30\n",
            "173/173 [==============================] - 7s 39ms/step - loss: 0.3060 - accuracy: 0.8844\n",
            "Epoch 29/30\n",
            "173/173 [==============================] - 7s 39ms/step - loss: 0.3007 - accuracy: 0.8862\n",
            "Epoch 30/30\n",
            "173/173 [==============================] - 7s 39ms/step - loss: 0.3059 - accuracy: 0.8884\n"
          ],
          "name": "stdout"
        },
        {
          "output_type": "execute_result",
          "data": {
            "text/plain": [
              "<tensorflow.python.keras.callbacks.History at 0x7f6df9430d90>"
            ]
          },
          "metadata": {
            "tags": []
          },
          "execution_count": 21
        }
      ]
    },
    {
      "cell_type": "markdown",
      "metadata": {
        "id": "Y0NewWjx1P5m"
      },
      "source": [
        "### *Evaluate The Model:*"
      ]
    },
    {
      "cell_type": "code",
      "metadata": {
        "colab": {
          "base_uri": "https://localhost:8080/"
        },
        "id": "7mKM9XOEQfn2",
        "outputId": "590d1dea-f125-46d6-ee96-c673940aa84c"
      },
      "source": [
        "model.evaluate(X_test_scaled, y_test)"
      ],
      "execution_count": 23,
      "outputs": [
        {
          "output_type": "stream",
          "text": [
            "29/29 [==============================] - 1s 27ms/step - loss: 1.0323 - accuracy: 0.7163\n"
          ],
          "name": "stdout"
        },
        {
          "output_type": "execute_result",
          "data": {
            "text/plain": [
              "[1.032281756401062, 0.716304361820221]"
            ]
          },
          "metadata": {
            "tags": []
          },
          "execution_count": 23
        }
      ]
    },
    {
      "cell_type": "markdown",
      "metadata": {
        "id": "5k1qa_5c2VV1"
      },
      "source": [
        "*Accuracy increased from 64% to 71% by using Data Augmentation.*"
      ]
    },
    {
      "cell_type": "markdown",
      "metadata": {
        "id": "k17WKY6u2pwY"
      },
      "source": [
        "## *Build CNN Model Using Transfer Learning*"
      ]
    },
    {
      "cell_type": "markdown",
      "metadata": {
        "id": "Ip1vjtICMNWF"
      },
      "source": [
        "### *Initialize Pretrained Model:*"
      ]
    },
    {
      "cell_type": "code",
      "metadata": {
        "id": "Qc2CLFj63cTb"
      },
      "source": [
        "feature_extractor_model = \"https://tfhub.dev/google/tf2-preview/mobilenet_v2/feature_vector/4\"\n",
        "\n",
        "pretrained_model_without_last_layer = hub.KerasLayer(feature_extractor_model, input_shape=(224, 224, 3), trainable=False)"
      ],
      "execution_count": 26,
      "outputs": []
    },
    {
      "cell_type": "markdown",
      "metadata": {
        "id": "2x52RyujMZQL"
      },
      "source": [
        "### *Initialize CNN Model:*"
      ]
    },
    {
      "cell_type": "code",
      "metadata": {
        "id": "Ty2h3qNcMz9v"
      },
      "source": [
        "model = Sequential([\n",
        "      pretrained_model_without_last_layer,\n",
        "      layers.Dense(5)\n",
        "])"
      ],
      "execution_count": 27,
      "outputs": []
    },
    {
      "cell_type": "markdown",
      "metadata": {
        "id": "C2vu-tj3NU9c"
      },
      "source": [
        "### *Compile The Model:*"
      ]
    },
    {
      "cell_type": "code",
      "metadata": {
        "id": "u6WfB6RiNZ8c"
      },
      "source": [
        "model.compile(optimizer='adam',\n",
        "              loss=tf.keras.losses.SparseCategoricalCrossentropy(from_logits=True),\n",
        "              metrics=['accuracy'])"
      ],
      "execution_count": 28,
      "outputs": []
    },
    {
      "cell_type": "markdown",
      "metadata": {
        "id": "jfAUaQCANfPv"
      },
      "source": [
        "### *Train The Model:*"
      ]
    },
    {
      "cell_type": "code",
      "metadata": {
        "colab": {
          "base_uri": "https://localhost:8080/"
        },
        "id": "HY2P0brDNkKp",
        "outputId": "4127a9a5-da6e-4760-d189-d128b0a3932c"
      },
      "source": [
        "model.fit(X_train_scaled, y_train, epochs=30, batch_size = 16)"
      ],
      "execution_count": 29,
      "outputs": [
        {
          "output_type": "stream",
          "text": [
            "Epoch 1/30\n",
            "173/173 [==============================] - 12s 46ms/step - loss: 0.7692 - accuracy: 0.7083\n",
            "Epoch 2/30\n",
            "173/173 [==============================] - 8s 44ms/step - loss: 0.3721 - accuracy: 0.8703\n",
            "Epoch 3/30\n",
            "173/173 [==============================] - 8s 44ms/step - loss: 0.2854 - accuracy: 0.9087\n",
            "Epoch 4/30\n",
            "173/173 [==============================] - 8s 44ms/step - loss: 0.2329 - accuracy: 0.9283\n",
            "Epoch 5/30\n",
            "173/173 [==============================] - 8s 44ms/step - loss: 0.1908 - accuracy: 0.9486\n",
            "Epoch 6/30\n",
            "173/173 [==============================] - 8s 44ms/step - loss: 0.1688 - accuracy: 0.9536\n",
            "Epoch 7/30\n",
            "173/173 [==============================] - 8s 44ms/step - loss: 0.1415 - accuracy: 0.9656\n",
            "Epoch 8/30\n",
            "173/173 [==============================] - 8s 44ms/step - loss: 0.1242 - accuracy: 0.9728\n",
            "Epoch 9/30\n",
            "173/173 [==============================] - 8s 44ms/step - loss: 0.1079 - accuracy: 0.9804\n",
            "Epoch 10/30\n",
            "173/173 [==============================] - 8s 44ms/step - loss: 0.0957 - accuracy: 0.9841\n",
            "Epoch 11/30\n",
            "173/173 [==============================] - 8s 44ms/step - loss: 0.0823 - accuracy: 0.9888\n",
            "Epoch 12/30\n",
            "173/173 [==============================] - 8s 44ms/step - loss: 0.0740 - accuracy: 0.9920\n",
            "Epoch 13/30\n",
            "173/173 [==============================] - 8s 44ms/step - loss: 0.0654 - accuracy: 0.9928\n",
            "Epoch 14/30\n",
            "173/173 [==============================] - 8s 44ms/step - loss: 0.0609 - accuracy: 0.9938\n",
            "Epoch 15/30\n",
            "173/173 [==============================] - 8s 44ms/step - loss: 0.0528 - accuracy: 0.9964\n",
            "Epoch 16/30\n",
            "173/173 [==============================] - 8s 44ms/step - loss: 0.0464 - accuracy: 0.9964\n",
            "Epoch 17/30\n",
            "173/173 [==============================] - 8s 44ms/step - loss: 0.0428 - accuracy: 0.9978\n",
            "Epoch 18/30\n",
            "173/173 [==============================] - 8s 44ms/step - loss: 0.0389 - accuracy: 0.9978\n",
            "Epoch 19/30\n",
            "173/173 [==============================] - 8s 44ms/step - loss: 0.0342 - accuracy: 0.9986\n",
            "Epoch 20/30\n",
            "173/173 [==============================] - 8s 44ms/step - loss: 0.0321 - accuracy: 0.9978\n",
            "Epoch 21/30\n",
            "173/173 [==============================] - 8s 44ms/step - loss: 0.0287 - accuracy: 0.9996\n",
            "Epoch 22/30\n",
            "173/173 [==============================] - 8s 44ms/step - loss: 0.0272 - accuracy: 0.9989\n",
            "Epoch 23/30\n",
            "173/173 [==============================] - 8s 44ms/step - loss: 0.0246 - accuracy: 0.9989\n",
            "Epoch 24/30\n",
            "173/173 [==============================] - 8s 44ms/step - loss: 0.0228 - accuracy: 0.9993\n",
            "Epoch 25/30\n",
            "173/173 [==============================] - 8s 44ms/step - loss: 0.0211 - accuracy: 0.9993\n",
            "Epoch 26/30\n",
            "173/173 [==============================] - 8s 44ms/step - loss: 0.0196 - accuracy: 0.9993\n",
            "Epoch 27/30\n",
            "173/173 [==============================] - 8s 44ms/step - loss: 0.0178 - accuracy: 0.9996\n",
            "Epoch 28/30\n",
            "173/173 [==============================] - 8s 44ms/step - loss: 0.0169 - accuracy: 0.9993\n",
            "Epoch 29/30\n",
            "173/173 [==============================] - 8s 44ms/step - loss: 0.0149 - accuracy: 0.9996\n",
            "Epoch 30/30\n",
            "173/173 [==============================] - 8s 44ms/step - loss: 0.0156 - accuracy: 0.9993\n"
          ],
          "name": "stdout"
        },
        {
          "output_type": "execute_result",
          "data": {
            "text/plain": [
              "<tensorflow.python.keras.callbacks.History at 0x7f6df3b56610>"
            ]
          },
          "metadata": {
            "tags": []
          },
          "execution_count": 29
        }
      ]
    },
    {
      "cell_type": "markdown",
      "metadata": {
        "id": "IdZuYgqMNoT4"
      },
      "source": [
        "### *Evaluate The Model:*"
      ]
    },
    {
      "cell_type": "code",
      "metadata": {
        "colab": {
          "base_uri": "https://localhost:8080/"
        },
        "id": "_-9_Mwu8OzUl",
        "outputId": "fb74bb59-27cf-487b-eea6-8e6605962c1f"
      },
      "source": [
        "model.evaluate(X_test_scaled, y_test)"
      ],
      "execution_count": 30,
      "outputs": [
        {
          "output_type": "stream",
          "text": [
            "29/29 [==============================] - 4s 96ms/step - loss: 0.4553 - accuracy: 0.8696\n"
          ],
          "name": "stdout"
        },
        {
          "output_type": "execute_result",
          "data": {
            "text/plain": [
              "[0.4552895128726959, 0.8695651888847351]"
            ]
          },
          "metadata": {
            "tags": []
          },
          "execution_count": 30
        }
      ]
    },
    {
      "cell_type": "markdown",
      "metadata": {
        "id": "XOrDfRgfO2lW"
      },
      "source": [
        "## *Comparing Performances*"
      ]
    },
    {
      "cell_type": "code",
      "metadata": {
        "id": "QwtPjk_PO-_g"
      },
      "source": [
        "Models = [\"CNN\", \"CNN with Data Augmentation\", \"CNN with Transfer Learning\"]\n",
        "accuracies = [62, 71, 86]"
      ],
      "execution_count": 31,
      "outputs": []
    },
    {
      "cell_type": "code",
      "metadata": {
        "colab": {
          "base_uri": "https://localhost:8080/",
          "height": 279
        },
        "id": "f9FWoXyNQX7v",
        "outputId": "bf42d1f7-8e82-4a4d-f10c-9ac05f21633b"
      },
      "source": [
        "plt.barh(Models, accuracies, height = 0.5, color = \"tab:cyan\")\n",
        "plt.xlabel(\"Accuracy\")\n",
        "plt.show()"
      ],
      "execution_count": 40,
      "outputs": [
        {
          "output_type": "display_data",
          "data": {
            "image/png": "[encoded data removed]",
            "text/plain": [
              "<Figure size 432x288 with 1 Axes>"
            ]
          },
          "metadata": {
            "tags": [],
            "needs_background": "light"
          }
        }
      ]
    },
    {
      "cell_type": "code",
      "metadata": {
        "id": "0eekDXitQitG"
      },
      "source": [
        ""
      ],
      "execution_count": null,
      "outputs": []
    }
  ]
}